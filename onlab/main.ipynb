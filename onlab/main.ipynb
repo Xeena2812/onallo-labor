{
 "cells": [
  {
   "attachments": {},
   "cell_type": "markdown",
   "metadata": {},
   "source": [
    "## Importing the CIFAR-100 dataset"
   ]
  },
  {
   "cell_type": "code",
   "execution_count": 1,
   "metadata": {},
   "outputs": [],
   "source": [
    "import numpy as np\n",
    "import tensorflow as tf"
   ]
  },
  {
   "cell_type": "code",
   "execution_count": 2,
   "metadata": {},
   "outputs": [
    {
     "name": "stdout",
     "output_type": "stream",
     "text": [
      "(50000, 32, 32, 3) (50000, 1)\n"
     ]
    }
   ],
   "source": [
    "import tensorflow as tf\n",
    "from tensorflow import keras\n",
    "import numpy as np\n",
    "from sklearn.preprocessing import LabelBinarizer\n",
    "\n",
    "(x_train, y_train), (x_test, y_test) = keras.datasets.cifar100.load_data(label_mode='fine')\n",
    "\n",
    "print(x_train.shape, y_train.shape)"
   ]
  },
  {
   "cell_type": "code",
   "execution_count": 3,
   "metadata": {},
   "outputs": [
    {
     "name": "stdout",
     "output_type": "stream",
     "text": [
      "[]\n"
     ]
    }
   ],
   "source": [
    "print(tf.config.list_physical_devices('GPU'))"
   ]
  },
  {
   "cell_type": "code",
   "execution_count": 4,
   "metadata": {},
   "outputs": [],
   "source": [
    "x_train = (x_train / 255 - 0.5) * 2\n",
    "x_test = (x_test / 255 - 0.5) * 2\n",
    "\n",
    "enc = LabelBinarizer()\n",
    "\n",
    "y_train = enc.fit_transform(y_train)\n",
    "y_test = enc.fit_transform(y_test)\n"
   ]
  },
  {
   "cell_type": "code",
   "execution_count": 5,
   "metadata": {},
   "outputs": [
    {
     "name": "stdout",
     "output_type": "stream",
     "text": [
      "(32, 32, 3)\n"
     ]
    }
   ],
   "source": [
    "print(x_test[0].shape)"
   ]
  },
  {
   "attachments": {},
   "cell_type": "markdown",
   "metadata": {},
   "source": [
    "## Inception v4 Implementation"
   ]
  },
  {
   "cell_type": "code",
   "execution_count": 7,
   "metadata": {},
   "outputs": [
    {
     "name": "stdout",
     "output_type": "stream",
     "text": [
      "pre-stem size: (None, 32, 32, 3)\n",
      "post-stem size: (None, 1, 1, 384)\n",
      "pre-A size: (None, 1, 1, 384)\n",
      "post-A size: (None, 1, 1, 384)\n",
      "pre-A size: (None, 1, 1, 384)\n",
      "post-A size: (None, 1, 1, 384)\n",
      "pre-B size: (None, 1, 1, 384)\n",
      "post-B size: (None, 1, 1, 1024)\n",
      "pre-B size: (None, 1, 1, 1024)\n",
      "post-B size: (None, 1, 1, 1024)\n",
      "pre-B size: (None, 1, 1, 1024)\n",
      "post-B size: (None, 1, 1, 1024)\n",
      "pre-B size: (None, 1, 1, 1024)\n",
      "post-B size: (None, 1, 1, 1024)\n",
      "pre-C size: (None, 1, 1, 1024)\n",
      "post-C size: (None, 1, 1, 1536)\n"
     ]
    },
    {
     "ename": "ValueError",
     "evalue": "Exception encountered when calling layer \"average_pooling2d_22\" (type AveragePooling2D).\n\nNegative dimension size caused by subtracting 2 from 1 for '{{node average_pooling2d_22/AvgPool}} = AvgPool[T=DT_FLOAT, data_format=\"NHWC\", ksize=[1, 2, 2, 1], padding=\"VALID\", strides=[1, 2, 2, 1]](Placeholder)' with input shapes: [?,1,1,1536].\n\nCall arguments received by layer \"average_pooling2d_22\" (type AveragePooling2D):\n  • inputs=tf.Tensor(shape=(None, 1, 1, 1536), dtype=float32)",
     "output_type": "error",
     "traceback": [
      "\u001b[1;31m---------------------------------------------------------------------------\u001b[0m",
      "\u001b[1;31mValueError\u001b[0m                                Traceback (most recent call last)",
      "\u001b[1;32mc:\\BME\\Semester_6\\onallo-labor\\onlab\\main.ipynb Cell 8\u001b[0m in \u001b[0;36m1\n\u001b[0;32m    <a href='vscode-notebook-cell:/c%3A/BME/Semester_6/onallo-labor/onlab/main.ipynb#X10sZmlsZQ%3D%3D?line=176'>177</a>\u001b[0m     model \u001b[39m=\u001b[39m Model(inputs\u001b[39m=\u001b[39minputs, outputs\u001b[39m=\u001b[39moutputs, name\u001b[39m=\u001b[39m\u001b[39m'\u001b[39m\u001b[39mMyInception\u001b[39m\u001b[39m'\u001b[39m)\n\u001b[0;32m    <a href='vscode-notebook-cell:/c%3A/BME/Semester_6/onallo-labor/onlab/main.ipynb#X10sZmlsZQ%3D%3D?line=178'>179</a>\u001b[0m     \u001b[39mreturn\u001b[39;00m model\n\u001b[1;32m--> <a href='vscode-notebook-cell:/c%3A/BME/Semester_6/onallo-labor/onlab/main.ipynb#X10sZmlsZQ%3D%3D?line=181'>182</a>\u001b[0m model \u001b[39m=\u001b[39m MyInception()\n\u001b[0;32m    <a href='vscode-notebook-cell:/c%3A/BME/Semester_6/onallo-labor/onlab/main.ipynb#X10sZmlsZQ%3D%3D?line=183'>184</a>\u001b[0m model\u001b[39m.\u001b[39mcompile()\n\u001b[0;32m    <a href='vscode-notebook-cell:/c%3A/BME/Semester_6/onallo-labor/onlab/main.ipynb#X10sZmlsZQ%3D%3D?line=185'>186</a>\u001b[0m model\u001b[39m.\u001b[39msummary()\n",
      "\u001b[1;32mc:\\BME\\Semester_6\\onallo-labor\\onlab\\main.ipynb Cell 8\u001b[0m in \u001b[0;36m1\n\u001b[0;32m    <a href='vscode-notebook-cell:/c%3A/BME/Semester_6/onallo-labor/onlab/main.ipynb#X10sZmlsZQ%3D%3D?line=168'>169</a>\u001b[0m \u001b[39mfor\u001b[39;00m _ \u001b[39min\u001b[39;00m \u001b[39mrange\u001b[39m(\u001b[39m1\u001b[39m):\n\u001b[0;32m    <a href='vscode-notebook-cell:/c%3A/BME/Semester_6/onallo-labor/onlab/main.ipynb#X10sZmlsZQ%3D%3D?line=169'>170</a>\u001b[0m     x \u001b[39m=\u001b[39m InceptionC(x)\n\u001b[1;32m--> <a href='vscode-notebook-cell:/c%3A/BME/Semester_6/onallo-labor/onlab/main.ipynb#X10sZmlsZQ%3D%3D?line=171'>172</a>\u001b[0m x \u001b[39m=\u001b[39m AveragePooling2D()(x)\n\u001b[0;32m    <a href='vscode-notebook-cell:/c%3A/BME/Semester_6/onallo-labor/onlab/main.ipynb#X10sZmlsZQ%3D%3D?line=172'>173</a>\u001b[0m x \u001b[39m=\u001b[39m Dropout(\u001b[39m0.2\u001b[39m)(x)\n\u001b[0;32m    <a href='vscode-notebook-cell:/c%3A/BME/Semester_6/onallo-labor/onlab/main.ipynb#X10sZmlsZQ%3D%3D?line=173'>174</a>\u001b[0m x \u001b[39m=\u001b[39m Flatten()(x)\n",
      "File \u001b[1;32m~\\AppData\\Roaming\\Python\\Python310\\site-packages\\keras\\utils\\traceback_utils.py:70\u001b[0m, in \u001b[0;36mfilter_traceback.<locals>.error_handler\u001b[1;34m(*args, **kwargs)\u001b[0m\n\u001b[0;32m     67\u001b[0m     filtered_tb \u001b[39m=\u001b[39m _process_traceback_frames(e\u001b[39m.\u001b[39m__traceback__)\n\u001b[0;32m     68\u001b[0m     \u001b[39m# To get the full stack trace, call:\u001b[39;00m\n\u001b[0;32m     69\u001b[0m     \u001b[39m# `tf.debugging.disable_traceback_filtering()`\u001b[39;00m\n\u001b[1;32m---> 70\u001b[0m     \u001b[39mraise\u001b[39;00m e\u001b[39m.\u001b[39mwith_traceback(filtered_tb) \u001b[39mfrom\u001b[39;00m \u001b[39mNone\u001b[39m\n\u001b[0;32m     71\u001b[0m \u001b[39mfinally\u001b[39;00m:\n\u001b[0;32m     72\u001b[0m     \u001b[39mdel\u001b[39;00m filtered_tb\n",
      "File \u001b[1;32m~\\AppData\\Roaming\\Python\\Python310\\site-packages\\tensorflow\\python\\framework\\ops.py:1969\u001b[0m, in \u001b[0;36m_create_c_op\u001b[1;34m(graph, node_def, inputs, control_inputs, op_def, extract_traceback)\u001b[0m\n\u001b[0;32m   1966\u001b[0m   c_op \u001b[39m=\u001b[39m pywrap_tf_session\u001b[39m.\u001b[39mTF_FinishOperation(op_desc)\n\u001b[0;32m   1967\u001b[0m \u001b[39mexcept\u001b[39;00m errors\u001b[39m.\u001b[39mInvalidArgumentError \u001b[39mas\u001b[39;00m e:\n\u001b[0;32m   1968\u001b[0m   \u001b[39m# Convert to ValueError for backwards compatibility.\u001b[39;00m\n\u001b[1;32m-> 1969\u001b[0m   \u001b[39mraise\u001b[39;00m \u001b[39mValueError\u001b[39;00m(e\u001b[39m.\u001b[39mmessage)\n\u001b[0;32m   1971\u001b[0m \u001b[39m# Record the current Python stack trace as the creating stacktrace of this\u001b[39;00m\n\u001b[0;32m   1972\u001b[0m \u001b[39m# TF_Operation.\u001b[39;00m\n\u001b[0;32m   1973\u001b[0m \u001b[39mif\u001b[39;00m extract_traceback:\n",
      "\u001b[1;31mValueError\u001b[0m: Exception encountered when calling layer \"average_pooling2d_22\" (type AveragePooling2D).\n\nNegative dimension size caused by subtracting 2 from 1 for '{{node average_pooling2d_22/AvgPool}} = AvgPool[T=DT_FLOAT, data_format=\"NHWC\", ksize=[1, 2, 2, 1], padding=\"VALID\", strides=[1, 2, 2, 1]](Placeholder)' with input shapes: [?,1,1,1536].\n\nCall arguments received by layer \"average_pooling2d_22\" (type AveragePooling2D):\n  • inputs=tf.Tensor(shape=(None, 1, 1, 1536), dtype=float32)"
     ]
    }
   ],
   "source": [
    "#import tensorflow as tf\n",
    "from keras.layers import Dense, Conv2D, Input, MaxPooling2D, BatchNormalization, Activation, AveragePooling2D, Dropout, Concatenate, Flatten\n",
    "#from keras.layers import *\n",
    "from keras import Model\n",
    "\n",
    "\n",
    "# TODO: Go to Inceptionv2 paper to understand Conv2D_BN and fine tune parameters potentially\n",
    "def Conv2DBatchNorm(x, filters, kernel_size=(3, 3), strides=(1, 1), padding='same'):\n",
    "\n",
    "    x = Conv2D(filters=filters, kernel_size=kernel_size, strides=strides, padding=padding)(x)\n",
    "            #    kernel_regularizer=keras.regularizers.l2(0.00004),\n",
    "            #    kernel_initializer=keras.initializers.VarianceScaling(scale=0.2, mode='fan_in', distribution='normal', seed=None)\n",
    "    x = BatchNormalization()(x)\n",
    "    x = Activation('relu')(x)\n",
    "\n",
    "    return x\n",
    "\n",
    "def Stem(x):\n",
    "    print(\"pre-stem size:\", x.shape)\n",
    "    x = Conv2DBatchNorm(x, 32, (3, 3), strides=(2, 2), padding='valid')\n",
    "    x = Conv2DBatchNorm(x, 32, (3, 3), padding='valid')\n",
    "    x = Conv2DBatchNorm(x, 64, (3, 3))\n",
    "\n",
    "    branch_0 = MaxPooling2D(pool_size=(3, 3), strides=(2, 2), padding='valid')(x)\n",
    "    branch_1 = Conv2DBatchNorm(x, 96, (3, 3), strides=(2, 2), padding='valid')\n",
    "\n",
    "    x = Concatenate()([branch_0, branch_1])\n",
    "\n",
    "    branch_0 = Conv2DBatchNorm(x, 64, (1, 1))\n",
    "    branch_0 = Conv2DBatchNorm(branch_0, 96, (3, 3), padding='valid')\n",
    "\n",
    "    branch_1 = Conv2DBatchNorm(x, 64, (1, 1))\n",
    "    branch_1 = Conv2DBatchNorm(branch_1, 64, (1, 7))\n",
    "    branch_1 = Conv2DBatchNorm(branch_1, 64, (7, 1))\n",
    "    branch_1 = Conv2DBatchNorm(branch_1, 96, (3, 3), padding='valid')\n",
    "\n",
    "    x = Concatenate()([branch_0, branch_1])\n",
    "\n",
    "    branch_0 = Conv2DBatchNorm(x, 192, (3, 3), strides=(2, 2), padding='valid')\n",
    "    branch_1 = MaxPooling2D((3, 3), strides=(2, 2), padding='valid')(x)\n",
    "\n",
    "    x = Concatenate()([branch_0, branch_1])\n",
    "\n",
    "    print(\"post-stem size:\", x.shape)\n",
    "\n",
    "    return x\n",
    "\n",
    "\n",
    "def InceptionA(x):\n",
    "    print(\"pre-A size:\", x.shape)\n",
    "\n",
    "    branch_0 = AveragePooling2D(pool_size=(3, 3), strides=(1, 1), padding='same')(x)\n",
    "    branch_0 = Conv2DBatchNorm(branch_0, 96, (1, 1))\n",
    "\n",
    "    branch_1 = Conv2DBatchNorm(x, 96, (1, 1))\n",
    "\n",
    "    branch_2 = Conv2DBatchNorm(x, 64, (1, 1))\n",
    "    branch_2 = Conv2DBatchNorm(branch_2, 96, (3, 3))\n",
    "\n",
    "    branch_3 = Conv2DBatchNorm(x, 64, (1, 1))\n",
    "    branch_3 = Conv2DBatchNorm(branch_3, 96, (3, 3))\n",
    "    branch_3 = Conv2DBatchNorm(branch_3, 96, (3, 3))\n",
    "\n",
    "    x = Concatenate()([branch_0, branch_1, branch_2, branch_3])\n",
    "    print(\"post-A size:\", x.shape)\n",
    "\n",
    "    return x\n",
    "\n",
    "\n",
    "def InceptionB(x):\n",
    "    print(\"pre-B size:\", x.shape)\n",
    "\n",
    "    branch_0 = AveragePooling2D(pool_size=(3, 3), strides=(1, 1), padding='same')(x)\n",
    "    branch_0 = Conv2DBatchNorm(branch_0, 128, (1, 1))\n",
    "\n",
    "    branch_1 = Conv2DBatchNorm(x, 384, (1, 1))\n",
    "\n",
    "    branch_2 = Conv2DBatchNorm(x, 192, (1, 1))\n",
    "    branch_2 = Conv2DBatchNorm(branch_2, 224, (1, 7))\n",
    "    branch_2 = Conv2DBatchNorm(branch_2, 256, (7, 1))\n",
    "\n",
    "    branch_3 = Conv2DBatchNorm(x, 192, (1, 1))\n",
    "    branch_3 = Conv2DBatchNorm(branch_3, 192, (1, 7))\n",
    "    branch_3 = Conv2DBatchNorm(branch_3, 224, (7, 1))\n",
    "    branch_3 = Conv2DBatchNorm(branch_3, 224, (1, 7))\n",
    "    branch_3 = Conv2DBatchNorm(branch_3, 256, (7, 1))\n",
    "\n",
    "    x = Concatenate()([branch_0, branch_1, branch_2, branch_3])\n",
    "    print(\"post-B size:\", x.shape)\n",
    "\n",
    "    return x\n",
    "\n",
    "\n",
    "def InceptionC(x):\n",
    "    print(\"pre-C size:\", x.shape)\n",
    "\n",
    "    branch_0 = AveragePooling2D(pool_size=(3, 3), strides=(1, 1), padding='same')(x)\n",
    "    branch_0 = Conv2DBatchNorm(branch_0, 256, (1, 1))\n",
    "\n",
    "    branch_1 = Conv2DBatchNorm(x, 256, (1, 1))\n",
    "\n",
    "    branch_2 = Conv2DBatchNorm(x, 384, (1, 1))\n",
    "    branch_2_0 = Conv2DBatchNorm(branch_2, 256, (1, 3))\n",
    "    branch_2_1 = Conv2DBatchNorm(branch_2, 256, (3, 1))\n",
    "\n",
    "    branch_3 = Conv2DBatchNorm(x, 384, (1, 1))\n",
    "    branch_3 = Conv2DBatchNorm(branch_3, 448, (1, 3))\n",
    "    branch_3 = Conv2DBatchNorm(branch_3, 512, (3, 1))\n",
    "    branch_3_0 = Conv2DBatchNorm(branch_3, 256, (3, 1))\n",
    "    branch_3_1 = Conv2DBatchNorm(branch_3, 256, (1, 3))\n",
    "\n",
    "    x = Concatenate()([branch_0, branch_1, branch_2_0, branch_2_1, branch_3_0, branch_3_1])\n",
    "    print(\"post-C size:\", x.shape)\n",
    "\n",
    "    return x\n",
    "\n",
    "\n",
    "def ReductionA(x):\n",
    "    print(\"pre-RedA size:\", x.shape)\n",
    "\n",
    "    branch_0 = MaxPooling2D(pool_size=(3, 3), strides=(2, 2), padding='valid')(x)\n",
    "\n",
    "    branch_1 = Conv2DBatchNorm(x, 384, (3, 3), strides=(2, 2), padding='valid')\n",
    "\n",
    "    branch_2 = Conv2DBatchNorm(x, 192, (1, 1))\n",
    "    branch_2 = Conv2DBatchNorm(branch_2, 224, (3, 3))\n",
    "    branch_2 = Conv2DBatchNorm(branch_2, 256, (3, 3), strides=(2, 2), padding='valid')\n",
    "\n",
    "    x = Concatenate()([branch_0, branch_1, branch_2])\n",
    "    print(\"post-RedA size:\", x.shape)\n",
    "\n",
    "    return x\n",
    "\n",
    "\n",
    "def ReductionB(x):\n",
    "    print(\"pre-RedB size:\", x.shape)\n",
    "\n",
    "    branch_0 = MaxPooling2D(pool_size=(3, 3), strides=(2, 2), padding='valid')(x)\n",
    "\n",
    "    branch_1 = Conv2DBatchNorm(x, 192, (1, 1))\n",
    "    branch_1 = Conv2DBatchNorm(branch_1, 192, (3, 3), strides=(2, 2), padding='valid')\n",
    "\n",
    "    branch_2 = Conv2DBatchNorm(x, 256, (1, 1))\n",
    "    branch_2 = Conv2DBatchNorm(branch_2, 256, (1, 7))\n",
    "    branch_2 = Conv2DBatchNorm(branch_2, 320, (7, 1))\n",
    "    branch_2 = Conv2DBatchNorm(branch_2, 320, (3, 3), strides=(2, 2), padding='valid')\n",
    "\n",
    "    x = Concatenate()([branch_0, branch_1, branch_2])\n",
    "    print(\"post-RedB size:\", x.shape)\n",
    "\n",
    "    return x\n",
    "\n",
    "\n",
    "def MyInception():\n",
    "    inputs = Input(shape=(32, 32, 3), name='input')\n",
    "\n",
    "    x = Stem(inputs)\n",
    "\n",
    "    for _ in range(4):\n",
    "        x = InceptionA(x)\n",
    "\n",
    "    x = ReductionA(x)\n",
    "\n",
    "    for _ in range(7):\n",
    "        x = InceptionB(x)\n",
    "\n",
    "    x = ReductionB(x)\n",
    "\n",
    "    for _ in range(3):\n",
    "        x = InceptionC(x)\n",
    "\n",
    "    x = AveragePooling2D()(x)\n",
    "    x = Dropout(0.2)(x)\n",
    "    x = Flatten()(x)\n",
    "\n",
    "    outputs = Dense(100, activation='softmax', name='output')(x)\n",
    "    model = Model(inputs=inputs, outputs=outputs, name='MyInception')\n",
    "\n",
    "    return model\n",
    "\n",
    "\n",
    "model = MyInception()\n",
    "\n",
    "model.compile()\n",
    "\n",
    "model.summary()"
   ]
  },
  {
   "cell_type": "code",
   "execution_count": null,
   "metadata": {},
   "outputs": [],
   "source": []
  }
 ],
 "metadata": {
  "kernelspec": {
   "display_name": "tf",
   "language": "python",
   "name": "python3"
  },
  "language_info": {
   "codemirror_mode": {
    "name": "ipython",
    "version": 3
   },
   "file_extension": ".py",
   "mimetype": "text/x-python",
   "name": "python",
   "nbconvert_exporter": "python",
   "pygments_lexer": "ipython3",
   "version": "3.10.7"
  },
  "orig_nbformat": 4,
  "vscode": {
   "interpreter": {
    "hash": "a5fa9285215e4b0b41af508f79a138b9553c6fbd1ae80ad44751154a42b4e6d9"
   }
  }
 },
 "nbformat": 4,
 "nbformat_minor": 2
}
