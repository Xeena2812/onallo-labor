{
  "cells": [
    {
      "cell_type": "markdown",
      "metadata": {
        "id": "k6aYgnzA2I9d"
      },
      "source": [
        "## Importing the CIFAR-100 dataset"
      ]
    },
    {
      "cell_type": "code",
      "execution_count": 1,
      "metadata": {
        "colab": {
          "base_uri": "https://localhost:8080/"
        },
        "id": "euNbEV-D2I9g",
        "outputId": "256b5bd6-cc1d-4248-b215-871be594e53c"
      },
      "outputs": [
        {
          "output_type": "stream",
          "name": "stdout",
          "text": [
            "(50000, 32, 32, 3) (50000, 1)\n"
          ]
        }
      ],
      "source": [
        "import tensorflow as tf\n",
        "from tensorflow import keras\n",
        "import numpy as np\n",
        "from sklearn.preprocessing import LabelBinarizer\n",
        "# To ignore random tensorflow warnings.\n",
        "import absl.logging\n",
        "import matplotlib.pyplot as plt\n",
        "absl.logging.set_verbosity(absl.logging.ERROR)\n",
        "\n",
        "(x_train, y_train), (x_test, y_test) = keras.datasets.cifar100.load_data(label_mode='fine')\n",
        "\n",
        "print(x_train.shape, y_train.shape)"
      ]
    },
    {
      "cell_type": "markdown",
      "source": [
        "## Data Augmentation"
      ],
      "metadata": {
        "id": "jOddoXOW4m2d"
      }
    },
    {
      "cell_type": "code",
      "source": [
        "from keras.models import Sequential\n",
        "from keras.layers import Rescaling, RandomFlip, RandomRotation, RandomZoom\n",
        "\n",
        "data_augment = Sequential([\n",
        "    # Commented out when applying to testt data, because it's not deactivated at inference time\n",
        "    # Rescaling(1./255),\n",
        "    RandomFlip('horizontal_and_vertical'),\n",
        "    RandomRotation(0.2),\n",
        "    RandomZoom(0.2)\n",
        "])\n",
        "\n",
        "enc = LabelBinarizer()\n",
        "\n",
        "y_train = enc.fit_transform(y_train)\n",
        "y_test = enc.fit_transform(y_test)\n",
        "\n",
        "#x_train, y_train = np.concatenate((x_train, x_train), axis=0), np.concatenate((y_train, y_train), axis=0)\n",
        "#x_train, y_train = np.concatenate((x_train, x_train), axis=0), np.concatenate((y_train, y_train), axis=0)\n",
        "\n",
        "print(x_train.shape)"
      ],
      "metadata": {
        "id": "2b9zq6Ia4pMC",
        "outputId": "300150a2-2789-4d27-a137-d7bd6c1beebc",
        "colab": {
          "base_uri": "https://localhost:8080/"
        }
      },
      "execution_count": 2,
      "outputs": [
        {
          "output_type": "stream",
          "name": "stdout",
          "text": [
            "(50000, 32, 32, 3)\n"
          ]
        }
      ]
    },
    {
      "cell_type": "code",
      "source": [
        "# For reference\n",
        "labels = ['apple', 'aquarium_fish', 'baby', 'bear', 'beaver', 'bed', 'bee', 'beetle', 'bicycle', 'bottle',\n",
        "          'bowl', 'boy', 'bridge', 'bus', 'butterfly', 'camel', 'can', 'castle', 'caterpillar', 'cattle',\n",
        "          'chair', 'chimpanzee', 'clock', 'cloud', 'cockroach', 'couch', 'cra', 'crocodile', 'cup', 'dinosaur',\n",
        "          'dolphin', 'elephant', 'flatfish', 'forest', 'fox', 'girl', 'hamster', 'house', 'kangaroo', 'keyboard',\n",
        "          'lamp', 'lawn_mower', 'leopard', 'lion', 'lizard', 'lobster', 'man', 'maple_tree', 'motorcycle', 'mountain',\n",
        "          'mouse', 'mushroom', 'oak_tree', 'orange', 'orchid', 'otter', 'palm_tree', 'pear', 'pickup_truck', 'pine_tree',\n",
        "          'plain', 'plate', 'poppy', 'porcupine', 'possum', 'rabbit', 'raccoon', 'ray', 'road', 'rocket', 'rose', 'sea',\n",
        "          'seal', 'shark', 'shrew', 'skunk', 'skyscraper', 'snail', 'snake', 'spider', 'squirrel', 'streetcar', 'sunflower',\n",
        "          'sweet_pepper', 'table', 'tank', 'telephone', 'television', 'tiger', 'tractor', 'train', 'trout', 'tulip', 'turtle',\n",
        "          'wardrobe', 'whale', 'willow_tree', 'wolf', 'woman', 'worm']"
      ],
      "metadata": {
        "id": "AWqByaSPr_GN"
      },
      "execution_count": 3,
      "outputs": []
    },
    {
      "cell_type": "code",
      "source": [
        "\n",
        "def show_transformed_images(image_id, grid_size=(3, 3)):\n",
        "    digit_y = enc.inverse_transform(y_train)\n",
        "    fig, axes = plt.subplots(*grid_size, figsize=(3*grid_size[0], 3*grid_size[1]))\n",
        "    label_idx = digit_y[image_id]\n",
        "\n",
        "    axes.ravel()[0].imshow(x_train[image_id])\n",
        "    axes.ravel()[0].set_xlabel('Original - ' + labels[label_idx])\n",
        "\n",
        "    for axis in axes.ravel()[1:]:\n",
        "        axis.imshow(data_augment(x_train[image_id]))\n",
        "\n",
        "    fig.tight_layout()\n",
        "    fig.show()"
      ],
      "metadata": {
        "id": "iuO_pB_CgXvd"
      },
      "execution_count": 4,
      "outputs": []
    },
    {
      "cell_type": "code",
      "source": [
        "import random\n",
        "\n",
        "for _ in range(3):\n",
        "    show_transformed_images(random.randint(0, 50000), (4, 4))"
      ],
      "metadata": {
        "id": "6SpevNLoh3QI"
      },
      "execution_count": null,
      "outputs": []
    },
    {
      "cell_type": "code",
      "source": [
        "fig = plt.subplot()\n",
        "\n",
        "fig.hist(digit_y)\n",
        "# The distribtion of classes in the training data set seems to be uniform.\n",
        "fig.plot()\n",
        "\n",
        "distribution = []\n",
        "\n",
        "# Let's check that with the raw numbers. It seems to be correct\n",
        "for i in range(100):\n",
        "    distribution.append((np.count_nonzero(digit_y == i)))\n",
        "\n",
        "print(distribution)"
      ],
      "metadata": {
        "id": "oyPOgUxk9GuE",
        "outputId": "05f3e07a-c373-4697-b0b0-81510975f9e6",
        "colab": {
          "base_uri": "https://localhost:8080/",
          "height": 467
        }
      },
      "execution_count": 28,
      "outputs": [
        {
          "output_type": "stream",
          "name": "stdout",
          "text": [
            "[500, 500, 500, 500, 500, 500, 500, 500, 500, 500, 500, 500, 500, 500, 500, 500, 500, 500, 500, 500, 500, 500, 500, 500, 500, 500, 500, 500, 500, 500, 500, 500, 500, 500, 500, 500, 500, 500, 500, 500, 500, 500, 500, 500, 500, 500, 500, 500, 500, 500, 500, 500, 500, 500, 500, 500, 500, 500, 500, 500, 500, 500, 500, 500, 500, 500, 500, 500, 500, 500, 500, 500, 500, 500, 500, 500, 500, 500, 500, 500, 500, 500, 500, 500, 500, 500, 500, 500, 500, 500, 500, 500, 500, 500, 500, 500, 500, 500, 500, 500]\n"
          ]
        },
        {
          "output_type": "display_data",
          "data": {
            "text/plain": [
              "<Figure size 640x480 with 1 Axes>"
            ],
            "image/png": "[encoded data removed]"
          },
          "metadata": {}
        }
      ]
    },
    {
      "cell_type": "code",
      "source": [
        "!pip install pyNVML\n",
        "import pynvml as nvidia_smi\n",
        "\n",
        "def get_max_batch_size(model, image_size, inference=False):\n",
        "    nvidia_smi.nvmlInit()\n",
        "\n",
        "    handle = nvidia_smi.nvmlDeviceGetHandleByIndex(0)\n",
        "    info = nvidia_smi.nvmlDeviceGetMemoryInfo(handle)\n",
        "    total_gpu_memory = info.total\n",
        "    # Weights are float32 -> 4 bytes\n",
        "    model_size = model.count_params() * 4\n",
        "    # Rescaling layer returns float32\n",
        "    # RGB channels\n",
        "    image_bytes = 4 * image_size * image_size * 3\n",
        "    if inference:\n",
        "        MAX_BATCH_SIZE = int(np.floor((total_gpu_memory - model_size) / image_bytes))\n",
        "    else:\n",
        "        MAX_BATCH_SIZE = int(np.floor(total_gpu_memory / (model_size + image_bytes)))\n",
        "    MAX_BATCH_SIZE_LOG2 = int(2 ** np.floor(np.log2(MAX_BATCH_SIZE)))\n",
        "    \n",
        "    return MAX_BATCH_SIZE, MAX_BATCH_SIZE_LOG2\n"
      ],
      "metadata": {
        "id": "Givt52spIjUP",
        "outputId": "950508b7-a206-4258-f6b9-43935583b0c0",
        "colab": {
          "base_uri": "https://localhost:8080/"
        }
      },
      "execution_count": 5,
      "outputs": [
        {
          "output_type": "stream",
          "name": "stdout",
          "text": [
            "Looking in indexes: https://pypi.org/simple, https://us-python.pkg.dev/colab-wheels/public/simple/\n",
            "Requirement already satisfied: pyNVML in /usr/local/lib/python3.10/dist-packages (11.5.0)\n"
          ]
        }
      ]
    },
    {
      "cell_type": "code",
      "source": [
        "%load_ext tensorboard"
      ],
      "metadata": {
        "id": "fbpfMvzkM-Xi"
      },
      "execution_count": null,
      "outputs": []
    },
    {
      "cell_type": "code",
      "source": [
        "%tensorboard --logdir ./drive/MyDrive/colab_buffer"
      ],
      "metadata": {
        "id": "940vfKuukwNu"
      },
      "execution_count": null,
      "outputs": []
    },
    {
      "cell_type": "code",
      "source": [
        "import gdown\n",
        "import zipfile\n",
        "\n",
        "models = gdown.download('https://drive.google.com/uc?export=download&id=1_saYHZEHNQW8zyUMAbeAHvdVx-SEcpdm', 'models.zip')\n",
        "\n",
        "with zipfile.ZipFile('models.zip', 'r') as zip_ref:\n",
        "    zip_ref.extractall('models')\n"
      ],
      "metadata": {
        "colab": {
          "base_uri": "https://localhost:8080/"
        },
        "id": "h5yVF7ZwGnYE",
        "outputId": "2fd78fde-a42a-4d94-a47e-6da9cd864d56"
      },
      "execution_count": 6,
      "outputs": [
        {
          "output_type": "stream",
          "name": "stderr",
          "text": [
            "Downloading...\n",
            "From: https://drive.google.com/uc?export=download&id=1_saYHZEHNQW8zyUMAbeAHvdVx-SEcpdm\n",
            "To: /content/models.zip\n",
            "100%|██████████| 1.85G/1.85G [00:16<00:00, 109MB/s] \n"
          ]
        }
      ]
    },
    {
      "cell_type": "code",
      "source": [
        "from keras.models import load_model\n",
        "\n",
        "# Naming convention:\n",
        "# na - No data augmentation\n",
        "# au - Data augmentation on the original 50,000 images\n",
        "# ma - data augmentation on 200,000 images (the original 50,000 concatenated 4 times)\n",
        "myinception_na = load_model('./models/colab_buffer/myinception-without-aug/checkpoint')\n",
        "myinception_au = load_model('./models/colab_buffer/myinception-data-aug/checkpoint')\n",
        "myinception_ma = load_model('./models/colab_buffer/more-images-data-aug/checkpoint')\n",
        "myInception_dropout_na = load_model('./models/colab_buffer/myinception-dropout/checkpoint')\n",
        "# this is probably not needed\n",
        "# myInception_dropout_au_1 = load_model('./models/colab_buffer/dropout-aug-pt1/checkpoint')\n",
        "myInception_dropout_au = load_model('./models/colab_buffer/dropout-aug-pt2/checkpoint')\n",
        "# myInception_dropout_ma = load_model('./models/colab_buffer//checkpoint')\n",
        "# myInception_attention_na = load_model('./models/colab_buffer/dropout-attention-aug/checkpoint')\n",
        "myInception_attention_au = load_model('./models/colab_buffer/dropout-attention-aug/checkpoint')\n",
        "# myInception_attention_ma = load_model('./models/colab_buffer/dropout-attention-aug/checkpoint')\n",
        "inceptionV3_na_1 = load_model('./models/colab_buffer/transfer-learning-no-aug-try-1/checkpoint')\n",
        "inceptionV3_na_2 = load_model('./models/colab_buffer/transfer-learning-no-aug-try2/checkpoint')\n",
        "inceptionV3_na = load_model('./models/colab_buffer/transfer-learning-without-aug/checkpoint')\n",
        "inceptionV3_au_1 = load_model('./models/colab_buffer/transfer-learning-aug1/checkpoint')\n",
        "inceptionV3_au_2 = load_model('./models/colab_buffer/transfer-learning-aug2/checkpoint')\n",
        "inceptionV3_ma = load_model('./models/colab_buffer/transfer-learning-more-data-aug/checkpoint')\n"
      ],
      "metadata": {
        "id": "7jyq42tjxUVt"
      },
      "execution_count": 7,
      "outputs": []
    },
    {
      "cell_type": "code",
      "source": [
        "myinception_na._name = 'MyInception-NA'\n",
        "myinception_au._name = 'MyInception-AU '\n",
        "myinception_ma._name = 'MyInception-MA'\n",
        "myInception_dropout_na._name = 'MyInception-Dropout-NA'\n",
        "# myInception_dropout_au_1._name = 'MyInception-Dropout AU-1'\n",
        "myInception_dropout_au._name = 'MyInception-Dropout-AU'\n",
        "# myInception_dropout_ma._name = 'MyInception-Dropout-MA'\n",
        "# myInception_attention_na._name = 'MyInception-Attention-NA'\n",
        "myInception_attention_au._name = 'MyInception-Attention-AU'\n",
        "# myInception_attention_ma._name = 'MyInception-Attention-MA'\n",
        "inceptionV3_na_1._name = 'InceptionV3-NA-1'\n",
        "inceptionV3_na_2._name = 'InceptionV3-NA-2'\n",
        "inceptionV3_na._name = 'InceptionV3-NA'\n",
        "inceptionV3_au_1._name = 'InceptionV3-AU-1'\n",
        "inceptionV3_au_2._name = 'InceptionV3-AU-2'\n",
        "inceptionV3_ma._name = 'InceptionV3-MA'\n"
      ],
      "metadata": {
        "id": "MCjuHxm5RxpE"
      },
      "execution_count": 15,
      "outputs": []
    },
    {
      "cell_type": "code",
      "source": [
        "\n",
        "def evaluate_certainty(model, n_transforms=10):\n",
        "    print('Calculating model certainty for:', model.name)\n",
        "\n",
        "    base_results = model.predict(x_test, batch_size=get_max_batch_size(model, 32, True)[1], verbose=0)\n",
        "    results_after_transform = [base_results]\n",
        "\n",
        "    for _ in range(n_transforms):\n",
        "        x_transformed = data_augment(x_test)\n",
        "        results_after_transform.append(model.predict(x_transformed, batch_size=get_max_batch_size(model, 32, True)[1], verbose=0))\n",
        "\n",
        "    results_after_transform = np.array(results_after_transform)\n",
        "\n",
        "    counts = []\n",
        "\n",
        "    for i in range(len(x_test)):\n",
        "        elements = results_after_transform[:, i, :]\n",
        "        counts.append(np.unique(np.argmax(elements, axis=1), return_counts=True, axis=0))\n",
        "\n",
        "\n",
        "    certainties = []\n",
        "\n",
        "    for i in range(len(counts)):\n",
        "        idx = np.where(counts[i][0] == np.argmax(base_results[i]))[0][0]\n",
        "        # + 1 is needed because we also put the base_reults into the results_after_transform list\n",
        "        certainty = counts[i][1][idx] / (n_transforms + 1)\n",
        "        certainties.append(certainty)\n",
        "\n",
        "    overall_certainty = np.mean(certainties)\n",
        "    certainty_std = np.std(certainties)\n",
        "    \n",
        "    return overall_certainty, certainty_std\n",
        "\n"
      ],
      "metadata": {
        "id": "kZnedTrEGIjn"
      },
      "execution_count": 19,
      "outputs": []
    },
    {
      "cell_type": "code",
      "source": [
        "from sklearn.metrics import confusion_matrix\n",
        "\n",
        "def plot_confusion_matrix(model, n_transforms=10):\n",
        "    print('Calculating confusion matrix for:', model.name)\n",
        "\n",
        "    max_batch_size = max(int(2 ** np.floor(np.log2(10000))), get_max_batch_size(model, 32, True)[1])\n",
        "    integer_y_test = enc.inverse_transform(y_test)\n",
        "    true_labels = integer_y_test\n",
        "    test_pred_raw = model.predict(x_test, batch_size=max_batch_size,verbose=0)\n",
        "\n",
        "    for _ in range(n_transforms):\n",
        "        true_labels = np.concatenate((true_labels, integer_y_test), axis=0)\n",
        "        transformed_pred = model.predict(data_augment(x_test), batch_size=max_batch_size,verbose=0)\n",
        "        test_pred_raw = np.concatenate((test_pred_raw, transformed_pred), axis=0)\n",
        "\n",
        "    test_pred = test_pred = np.argmax(test_pred_raw, axis=1)\n",
        "\n",
        "    cm = confusion_matrix(true_labels, test_pred)\n",
        "    cm = cm.astype('float') / cm.sum(axis=1)[:, np.newaxis]\n",
        "\n",
        "    fig, ax = plt.subplots(figsize=(20, 20))\n",
        "    im = ax.imshow(cm, interpolation='nearest', cmap=plt.cm.Reds)\n",
        "    ax.figure.colorbar(im, ax=ax)\n",
        "    ax.set(xticks=np.arange(cm.shape[1]),\n",
        "            yticks=np.arange(cm.shape[0]),\n",
        "            yticklabels=labels,\n",
        "            title='Confusion Matrix',\n",
        "            ylabel='True Label',\n",
        "            xlabel='Predicted Label')\n",
        "    ax.set_xticks(np.arange(100), labels, rotation='vertical')\n",
        "\n",
        "    plt.savefig(f'plots/{model.name}/conf-{n_transforms}-iters.png')\n"
      ],
      "metadata": {
        "id": "riChGVhdCyFu"
      },
      "execution_count": 20,
      "outputs": []
    },
    {
      "cell_type": "code",
      "source": [
        "def calculate_per_class_accuracy(model, n_transforms=10):\n",
        "    print('Calculating per-class accuracy for:', model.name)\n",
        "\n",
        "    max_batch_size = max(int(2 ** np.floor(np.log2(10000))), get_max_batch_size(model, 32, True)[1])\n",
        "    integer_y_test = enc.inverse_transform(y_test)\n",
        "    true_labels = integer_y_test\n",
        "    test_pred_raw = model.predict(x_test, batch_size=max_batch_size, verbose=0)\n",
        "\n",
        "    for _ in range(n_transforms):\n",
        "        true_labels = np.concatenate((true_labels, integer_y_test), axis=0)\n",
        "        transformed_pred = model.predict(data_augment(x_test), batch_size=max_batch_size, verbose=0)\n",
        "        test_pred_raw = np.concatenate((test_pred_raw, transformed_pred), axis=0)\n",
        "\n",
        "    test_pred = test_pred = np.argmax(test_pred_raw, axis=1)\n",
        "    \n",
        "    correct_per_class = np.zeros(100, dtype=np.int32)\n",
        "    samples_per_class = np.zeros(100, dtype=np.int32)\n",
        "\n",
        "    for pred, label in zip(test_pred, true_labels):\n",
        "        samples_per_class[label] += 1\n",
        "        if pred == label:\n",
        "            correct_per_class[label] += 1\n",
        "\n",
        "    per_class_accuracy = correct_per_class / samples_per_class.astype(np.float32)\n",
        "\n",
        "    fig, ax = plt.subplots(figsize=(15, 8))\n",
        "\n",
        "    ax.bar(np.arange(100), per_class_accuracy)\n",
        "    ax.set_title(\"Per-class Accuracy\")\n",
        "    ax.set_xticks(np.arange(100), labels, rotation='vertical')\n",
        "\n",
        "    plt.savefig(f'plots/{model.name}/per-class-acc-{n_transforms}-iters.png')\n",
        "\n",
        "    fig.show()\n"
      ],
      "metadata": {
        "id": "UZYbViWK-aZr"
      },
      "execution_count": 21,
      "outputs": []
    },
    {
      "cell_type": "code",
      "source": [
        "all_models = [myinception_na, myinception_au, myinception_ma, myInception_dropout_na, myInception_dropout_au, \n",
        "              myInception_attention_au, inceptionV3_na_1, inceptionV3_na_2, inceptionV3_na, inceptionV3_au_1, \n",
        "              inceptionV3_au_2, inceptionV3_ma]"
      ],
      "metadata": {
        "id": "l2jXS1Bs0wLa"
      },
      "execution_count": 10,
      "outputs": []
    },
    {
      "cell_type": "code",
      "source": [
        "import gc\n",
        "gc.collect()"
      ],
      "metadata": {
        "id": "Ib9Ws98YTVnB",
        "outputId": "5be79d79-ca96-4c1a-84f0-726e56637a82",
        "colab": {
          "base_uri": "https://localhost:8080/"
        }
      },
      "execution_count": 24,
      "outputs": [
        {
          "output_type": "execute_result",
          "data": {
            "text/plain": [
              "0"
            ]
          },
          "metadata": {},
          "execution_count": 24
        }
      ]
    },
    {
      "cell_type": "code",
      "source": [
        "import gc\n",
        "\n",
        "all_model_certainties = []\n",
        "\n",
        "for model in all_models:\n",
        "    n_transforms = 10\n",
        "    cert_mean, cert_std = evaluate_certainty(model, n_transforms)\n",
        "\n",
        "    all_model_certainties.append(cert_mean)\n",
        "    \n",
        "    print(f'Mean and Std of certainty for {model.name} after {n_transforms} pass throughs: {cert_mean}, {cert_std}')\n",
        "    print('-------------------------------')\n",
        "    \n",
        "    gc.collect()\n",
        "\n",
        "    plot_confusion_matrix(model, n_transforms)\n",
        "\n",
        "    gc.collect()\n",
        "\n",
        "    calculate_per_class_accuracy(model, n_transforms)\n",
        "\n",
        "    gc.collect()\n"
      ],
      "metadata": {
        "colab": {
          "base_uri": "https://localhost:8080/"
        },
        "id": "8igxkyaZPpOg",
        "outputId": "634ab2ea-8248-43d0-e97e-feb581e6e468"
      },
      "execution_count": null,
      "outputs": [
        {
          "output_type": "stream",
          "name": "stdout",
          "text": [
            "Calculating model certainty for: MyInception-NA\n"
          ]
        }
      ]
    },
    {
      "cell_type": "code",
      "source": [
        "fig, ax = plt.subplots(figsize=(15, 8))\n",
        "\n",
        "ax.bar(np.arange(len(all_models)), all_model_certainties)\n",
        "ax.set_title(\"Model Certainties\")\n",
        "\n",
        "all_model_names = [model.name for model in all_models]\n",
        "print(all_model_names)\n",
        "ax.set_xticks(np.arange(len(all_models)), all_model_names, rotation='vertical')\n",
        "\n",
        "fig.show()\n",
        "\n",
        "plt.savefig('plots/all-model-certainties.png')\n"
      ],
      "metadata": {
        "colab": {
          "base_uri": "https://localhost:8080/",
          "height": 814
        },
        "id": "Fbj4o559FdTk",
        "outputId": "33fd2f3b-4310-4f33-fd96-c30b50200c13"
      },
      "execution_count": 67,
      "outputs": [
        {
          "output_type": "stream",
          "name": "stdout",
          "text": [
            "['Base Model', 'Aug Model', 'More Aug Model']\n"
          ]
        },
        {
          "output_type": "display_data",
          "data": {
            "text/plain": [
              "<Figure size 1500x800 with 1 Axes>"
            ],
            "image/png": "[encoded data removed]"
          },
          "metadata": {}
        }
      ]
    }
  ],
  "metadata": {
    "kernelspec": {
      "display_name": "Python 3",
      "name": "python3"
    },
    "language_info": {
      "codemirror_mode": {
        "name": "ipython",
        "version": 3
      },
      "file_extension": ".py",
      "mimetype": "text/x-python",
      "name": "python",
      "nbconvert_exporter": "python",
      "pygments_lexer": "ipython3",
      "version": "3.9.16"
    },
    "orig_nbformat": 4,
    "vscode": {
      "interpreter": {
        "hash": "a5fa9285215e4b0b41af508f79a138b9553c6fbd1ae80ad44751154a42b4e6d9"
      }
    },
    "colab": {
      "provenance": [],
      "gpuType": "T4"
    },
    "accelerator": "GPU"
  },
  "nbformat": 4,
  "nbformat_minor": 0
}