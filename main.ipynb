{
 "cells": [
  {
   "attachments": {},
   "cell_type": "markdown",
   "metadata": {},
   "source": [
    "## Importing the CIFAR-100 dataset"
   ]
  },
  {
   "cell_type": "code",
   "execution_count": 1,
   "metadata": {},
   "outputs": [
    {
     "name": "stdout",
     "output_type": "stream",
     "text": [
      "(50000, 32, 32, 3) (50000, 1)\n"
     ]
    }
   ],
   "source": [
    "import keras.datasets.cifar100\n",
    "import numpy as np\n",
    "from sklearn.preprocessing import LabelBinarizer\n",
    "\n",
    "(x_train, y_train), (x_test, y_test) = keras.datasets.cifar100.load_data(label_mode='fine')\n",
    "\n",
    "print(x_train.shape, y_train.shape)"
   ]
  },
  {
   "cell_type": "code",
   "execution_count": 2,
   "metadata": {},
   "outputs": [],
   "source": [
    "\n",
    "def standardize_data(x_train, x_test):\n",
    "\tmean = np.mean(x_train, axis=(0, 1, 2))\n",
    "\tstd = np.std(x_train, axis=(0, 1, 2))\n",
    "\n",
    "\tx_train_stand = (x_train - mean) / std\n",
    "\tx_test_stand = (x_test - mean) / std\n",
    "\n",
    "\treturn (x_train_stand, x_test_stand)\n"
   ]
  },
  {
   "cell_type": "code",
   "execution_count": 3,
   "metadata": {},
   "outputs": [],
   "source": [
    "x_train = x_train / 255\n",
    "x_test = x_test / 255\n",
    "\n",
    "enc = LabelBinarizer()\n",
    "\n",
    "y_train = enc.fit_transform(y_train)\n",
    "y_test = enc.fit_transform(y_test)\n"
   ]
  },
  {
   "cell_type": "code",
   "execution_count": 22,
   "metadata": {},
   "outputs": [
    {
     "name": "stdout",
     "output_type": "stream",
     "text": [
      "(32, 32, 3)\n"
     ]
    }
   ],
   "source": [
    "print(x_test[0].shape)"
   ]
  },
  {
   "attachments": {},
   "cell_type": "markdown",
   "metadata": {},
   "source": [
    "## Inception v4 Implementation"
   ]
  },
  {
   "cell_type": "code",
   "execution_count": 2,
   "metadata": {},
   "outputs": [],
   "source": [
    "import tensorflow as tf\n",
    "from keras.layers import Dense, Conv2D, Input, MaxPool2D, BatchNormalization, Activation, AveragePooling2D, Dropout\n",
    "from keras import Ac\n",
    "from keras import Model\n",
    "\n",
    "def MyInception(x, y):\n",
    "    inputs = Input(shape=(32, 32, 3), name='input')(x)\n",
    "\n",
    "    x = Stem(x)\n",
    "\n",
    "    # TODO: Finish blocks and specify arguments (e.g.: AveragePooling2D, Dropout)\n",
    "    for _ in range(4):\n",
    "        x = InceptionA(x)\n",
    "\n",
    "    x = ReductionA(x)\n",
    "\n",
    "    for _ in range(7):\n",
    "        x = InceptionB(x)\n",
    "\n",
    "    x = ReductionB(x)\n",
    "\n",
    "    for _ in range(3):\n",
    "        x = InceptionC(x)\n",
    "\n",
    "    x = AveragePooling2D()(x)\n",
    "    x = Dropout()(x)\n",
    "\n",
    "    outputs = Dense(100, activation='softmax', name='output')\n",
    "    model = Model(inputs=inputs, outputs=outputs, name='MyInception')\n",
    "\n",
    "    return model\n",
    "\n",
    "# TODO: Go to Inceptionv1?2? paper to understand Conv2D_BN\n",
    "def Conv2DBatchNorm(x, filters, kernel_size=(3, 3), strides=(1, 1), padding='valid', activation='linear'):\n",
    "\n",
    "    x = Conv2D(filters=filters, kernel_size=kernel_size, strides=strides, padding=padding, activation=activation,\n",
    "               kernel_regularizer=keras.regularizers.l2(0.00004),\n",
    "               kernel_initializer=keras.initializers.VarianceScaling(scale=0.2, mode='fan_in', distribution='normal', seed=None))(x)\n",
    "    x = BatchNormalization()\n",
    "    x = Activation('relu')(x)\n",
    "\n",
    "# TODO: concat branches and add filter concat and end of stem\n",
    "def Stem(x):\n",
    "    x = Conv2D(32, (3, 3), strides=(2, 2), padding='valid', activation='relu')(x)\n",
    "    x = Conv2D(32, (3, 3), padding='valid', activation='relu')(x)\n",
    "    x = Conv2D(64, (3, 3), padding='same', activation='relu')(x)\n",
    "\n",
    "    branch_left = MaxPool2D(pool_size=(3, 3), stride=(2, 2), padding='valid')\n",
    "    branch_right = Conv2D(96, (3, 3), stride=(2, 2), padding='valid', activation='relu')\n",
    "    pass\n",
    "\n",
    "\n",
    "def InceptionA(x):\n",
    "    pass\n",
    "\n",
    "\n",
    "def InceptionB(x):\n",
    "    pass\n",
    "\n",
    "\n",
    "def InceptionC(x):\n",
    "    pass\n",
    "\n",
    "\n",
    "def ReductionA(x):\n",
    "    pass\n",
    "\n",
    "\n",
    "def ReductionB(x):\n",
    "    pass"
   ]
  }
 ],
 "metadata": {
  "kernelspec": {
   "display_name": "Python 3 (ipykernel)",
   "language": "python",
   "name": "python3"
  },
  "language_info": {
   "codemirror_mode": {
    "name": "ipython",
    "version": 3
   },
   "file_extension": ".py",
   "mimetype": "text/x-python",
   "name": "python",
   "nbconvert_exporter": "python",
   "pygments_lexer": "ipython3",
   "version": "3.10.7"
  },
  "orig_nbformat": 4
 },
 "nbformat": 4,
 "nbformat_minor": 2
}
