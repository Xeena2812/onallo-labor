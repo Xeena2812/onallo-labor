{
 "cells": [
  {
   "attachments": {},
   "cell_type": "markdown",
   "metadata": {},
   "source": [
    "## Importing the CIFAR-100 dataset"
   ]
  },
  {
   "cell_type": "code",
   "execution_count": 1,
   "metadata": {},
   "outputs": [
    {
     "name": "stdout",
     "output_type": "stream",
     "text": [
      "(50000, 32, 32, 3) (50000, 1)\n"
     ]
    }
   ],
   "source": [
    "import keras.datasets.cifar100\n",
    "import numpy as np\n",
    "from sklearn.preprocessing import LabelBinarizer\n",
    "\n",
    "(x_train, y_train), (x_test, y_test) = keras.datasets.cifar100.load_data(label_mode='fine')\n",
    "\n",
    "print(x_train.shape, y_train.shape)"
   ]
  },
  {
   "cell_type": "code",
   "execution_count": 2,
   "metadata": {},
   "outputs": [],
   "source": [
    "x_train = (x_train / 255 - 0.5) * 2\n",
    "x_test = (x_test / 255 - 0.5) * 2\n",
    "\n",
    "enc = LabelBinarizer()\n",
    "\n",
    "y_train = enc.fit_transform(y_train)\n",
    "y_test = enc.fit_transform(y_test)\n"
   ]
  },
  {
   "cell_type": "code",
   "execution_count": 3,
   "metadata": {},
   "outputs": [
    {
     "name": "stdout",
     "output_type": "stream",
     "text": [
      "(32, 32, 3)\n"
     ]
    }
   ],
   "source": [
    "print(x_test[0].shape)"
   ]
  },
  {
   "attachments": {},
   "cell_type": "markdown",
   "metadata": {},
   "source": [
    "## Inception v4 Implementation"
   ]
  },
  {
   "cell_type": "code",
   "execution_count": 6,
   "metadata": {},
   "outputs": [],
   "source": [
    "import tensorflow as tf\n",
    "from keras.layers import Dense, Conv2D, Input, MaxPooling2D, BatchNormalization, Activation, AveragePooling2D, Dropout, Concatenate\n",
    "from keras.layers import *\n",
    "from keras import Model\n",
    "\n",
    "def MyInception():\n",
    "    inputs = Input(shape=(32, 32, 3), name='input')\n",
    "\n",
    "    x = Stem(inputs)\n",
    "\n",
    "    for _ in range(4):\n",
    "        x = InceptionA(x)\n",
    "\n",
    "    x = ReductionA(x)\n",
    "\n",
    "    for _ in range(7):\n",
    "        x = InceptionB(x)\n",
    "\n",
    "    x = ReductionB(x)\n",
    "\n",
    "    for _ in range(3):\n",
    "        x = InceptionC(x)\n",
    "\n",
    "    x = AveragePooling2D()(x)\n",
    "    x = Dropout(0.2)(x)\n",
    "    x = Flatten()(x)\n",
    "\n",
    "    outputs = Dense(100, activation='softmax', name='output')\n",
    "    model = Model(inputs=inputs, outputs=outputs, name='MyInception')\n",
    "\n",
    "    return model\n",
    "\n",
    "# TODO: Go to Inceptionv2 paper to understand Conv2D_BN and fine tune parameters potentially\n",
    "def Conv2DBatchNorm(x, filters, kernel_size=(3, 3), strides=(1, 1), padding='same'):\n",
    "\n",
    "    x = Conv2D(filters=filters, kernel_size=kernel_size, strides=strides, padding=padding)(x)\n",
    "            #    kernel_regularizer=keras.regularizers.l2(0.00004),\n",
    "            #    kernel_initializer=keras.initializers.VarianceScaling(scale=0.2, mode='fan_in', distribution='normal', seed=None)\n",
    "    x = BatchNormalization()(x)\n",
    "    x = Activation('relu')(x)\n",
    "\n",
    "    return x\n",
    "\n",
    "def Stem(x):\n",
    "    x = Conv2DBatchNorm(x, 32, (3, 3), strides=(2, 2), padding='valid')\n",
    "    x = Conv2DBatchNorm(x, 32, (3, 3), padding='valid')\n",
    "    x = Conv2DBatchNorm(x, 64, (3, 3))\n",
    "\n",
    "    branch_0 = MaxPooling2D(pool_size=(3, 3), strides=(2, 2), padding='valid')(x)\n",
    "    branch_1 = Conv2DBatchNorm(x, 96, (3, 3), strides=(2, 2), padding='valid')\n",
    "\n",
    "    x = Concatenate()([branch_0, branch_1])\n",
    "\n",
    "    branch_0 = Conv2DBatchNorm(x, 64, (1, 1))\n",
    "    branch_0 = Conv2DBatchNorm(branch_0, 96, (3, 3), padding='valid')\n",
    "\n",
    "    branch_1 = Conv2DBatchNorm(x, 64, (1, 1))\n",
    "    branch_1 = Conv2DBatchNorm(branch_1, 64, (7, 1))\n",
    "    branch_1 = Conv2DBatchNorm(branch_1, 64, (1, 7))\n",
    "    branch_1 = Conv2DBatchNorm(branch_1, 96, (3, 3), padding='valid')\n",
    "\n",
    "    x = Concatenate()([branch_0, branch_1])\n",
    "\n",
    "    return x\n",
    "\n",
    "\n",
    "def InceptionA(x):\n",
    "    branch_0 = AveragePooling2D(pool_size=(3, 3))(x)\n",
    "    branch_0 = Conv2DBatchNorm(branch_0, 96, (1, 1))\n",
    "\n",
    "    branch_1 = Conv2DBatchNorm(x, 96, (1, 1))\n",
    "\n",
    "    branch_2 = Conv2DBatchNorm(x, 64, (1, 1))\n",
    "    branch_2 = Conv2DBatchNorm(branch_2, 96, (3, 3))\n",
    "\n",
    "    branch_3 = Conv2DBatchNorm(x, 64, (1, 1))\n",
    "    branch_3 = Conv2DBatchNorm(branch_3, 96, (3, 3))\n",
    "    branch_3 = Conv2DBatchNorm(branch_3, 96, (3, 3))\n",
    "\n",
    "    x = Concatenate()([branch_0, branch_1, branch_2, branch_3])\n",
    "\n",
    "    return x\n",
    "\n",
    "\n",
    "def InceptionB(x):\n",
    "    branch_0 = AveragePooling2D()(x)\n",
    "    branch_0 = Conv2DBatchNorm(branch_0, 128, (1, 1))\n",
    "\n",
    "    branch_1 = Conv2DBatchNorm(x, 384, (1, 1))\n",
    "\n",
    "    branch_2 = Conv2DBatchNorm(x, 192, (1, 1))\n",
    "    branch_2 = Conv2DBatchNorm(branch_2, 224, (1, 7))\n",
    "    branch_2 = Conv2DBatchNorm(branch_2, 256, (7, 1))\n",
    "\n",
    "    branch_3 = Conv2DBatchNorm(x, 192, (1, 1))\n",
    "    branch_3 = Conv2DBatchNorm(branch_3, 192, (1, 7))\n",
    "    branch_3 = Conv2DBatchNorm(branch_3, 224, (7, 1))\n",
    "    branch_3 = Conv2DBatchNorm(branch_3, 224, (1, 7))\n",
    "    branch_3 = Conv2DBatchNorm(branch_3, 256, (7, 1))\n",
    "\n",
    "    x = Concatenate()([branch_0, branch_1, branch_2, branch_3])\n",
    "\n",
    "    return x\n",
    "\n",
    "\n",
    "def InceptionC(x):\n",
    "    branch_0 = AveragePooling2D()(x)\n",
    "    branch_0 = Conv2DBatchNorm(branch_0, 256, (1, 1))\n",
    "\n",
    "    branch_1 = Conv2DBatchNorm(x, 256, (1, 1))\n",
    "\n",
    "    branch_2 = Conv2DBatchNorm(x, 384, (1, 1))\n",
    "    branch_2_0 = Conv2DBatchNorm(branch_2, 256, (1, 3))\n",
    "    branch_2_1 = Conv2DBatchNorm(branch_2, 256, (3, 1))\n",
    "\n",
    "    branch_3 = Conv2DBatchNorm(x, 384, (1, 1))\n",
    "    branch_3 = Conv2DBatchNorm(branch_3, 448, (1, 3))\n",
    "    branch_3 = Conv2DBatchNorm(branch_3, 512, (3, 1))\n",
    "    branch_3_0 = Conv2DBatchNorm(branch_3, 256, (3, 1))\n",
    "    branch_3_1 = Conv2DBatchNorm(branch_3, 256, (1, 3))\n",
    "\n",
    "    x = Concatenate()[branch_0, branch_1, branch_2_0, branch_2_1, branch_3_0, branch_3_1]\n",
    "\n",
    "    return x\n",
    "\n",
    "\n",
    "def ReductionA(x):\n",
    "    branch_0 = MaxPooling2D(pool_size=(3, 3), strides=(2, 2), padding='valid')(x)\n",
    "\n",
    "    branch_1 = Conv2DBatchNorm(x, 384, (3, 3), strides=(2, 2), padding='valid')\n",
    "\n",
    "    branch_2 = Conv2DBatchNorm(x, 192, (1, 1))\n",
    "    branch_2 = Conv2DBatchNorm(branch_2, 224, (3, 3))\n",
    "    branch_2 = Conv2DBatchNorm(branch_2, 256, (3, 3), strides=(2, 2), padding='valid')\n",
    "\n",
    "    x = Concatenate()([branch_0, branch_1, branch_2])\n",
    "\n",
    "    return x\n",
    "\n",
    "\n",
    "def ReductionB(x):\n",
    "    branch_0 = MaxPooling2D(pool_size=(3, 3), strides=(2, 2), padding='valid')(x)\n",
    "\n",
    "    branch_1 = Conv2DBatchNorm(x, 192, (1, 1))\n",
    "    branch_1 = Conv2DBatchNorm(branch_1, 192, (3, 3), strides=(2, 2), padding='valid')\n",
    "\n",
    "    branch_2 = Conv2DBatchNorm(x, 256, (1, 1))\n",
    "    branch_2 = Conv2DBatchNorm(branch_2, 256, (1, 7))\n",
    "    branch_2 = Conv2DBatchNorm(branch_2, 320, (7, 1))\n",
    "    branch_2 = Conv2DBatchNorm(branch_2, 320, (3, 3), strides=(2, 2), padding='valid')\n",
    "\n",
    "    x = Concatenate()([branch_0, branch_1, branch_2])\n",
    "    return x"
   ]
  },
  {
   "cell_type": "code",
   "execution_count": 7,
   "metadata": {},
   "outputs": [
    {
     "ename": "ValueError",
     "evalue": "A `Concatenate` layer requires inputs with matching shapes except for the concatenation axis. Received: input_shape=[(None, 2, 2, 96), (None, 4, 4, 96), (None, 4, 4, 96), (None, 4, 4, 96)]",
     "output_type": "error",
     "traceback": [
      "\u001b[1;31m---------------------------------------------------------------------------\u001b[0m",
      "\u001b[1;31mValueError\u001b[0m                                Traceback (most recent call last)",
      "\u001b[1;32mc:\\BME\\Semester_6\\onallo-labor\\main.ipynb Cell 7\u001b[0m in \u001b[0;36m1\n\u001b[1;32m----> <a href='vscode-notebook-cell:/c%3A/BME/Semester_6/onallo-labor/main.ipynb#W6sZmlsZQ%3D%3D?line=0'>1</a>\u001b[0m model \u001b[39m=\u001b[39m MyInception()\n\u001b[0;32m      <a href='vscode-notebook-cell:/c%3A/BME/Semester_6/onallo-labor/main.ipynb#W6sZmlsZQ%3D%3D?line=2'>3</a>\u001b[0m model\u001b[39m.\u001b[39mcompile()\n\u001b[0;32m      <a href='vscode-notebook-cell:/c%3A/BME/Semester_6/onallo-labor/main.ipynb#W6sZmlsZQ%3D%3D?line=4'>5</a>\u001b[0m model\u001b[39m.\u001b[39msummary()\n",
      "\u001b[1;32mc:\\BME\\Semester_6\\onallo-labor\\main.ipynb Cell 7\u001b[0m in \u001b[0;36m1\n\u001b[0;32m      <a href='vscode-notebook-cell:/c%3A/BME/Semester_6/onallo-labor/main.ipynb#W6sZmlsZQ%3D%3D?line=8'>9</a>\u001b[0m x \u001b[39m=\u001b[39m Stem(inputs)\n\u001b[0;32m     <a href='vscode-notebook-cell:/c%3A/BME/Semester_6/onallo-labor/main.ipynb#W6sZmlsZQ%3D%3D?line=10'>11</a>\u001b[0m \u001b[39mfor\u001b[39;00m _ \u001b[39min\u001b[39;00m \u001b[39mrange\u001b[39m(\u001b[39m4\u001b[39m):\n\u001b[1;32m---> <a href='vscode-notebook-cell:/c%3A/BME/Semester_6/onallo-labor/main.ipynb#W6sZmlsZQ%3D%3D?line=11'>12</a>\u001b[0m     x \u001b[39m=\u001b[39m InceptionA(x)\n\u001b[0;32m     <a href='vscode-notebook-cell:/c%3A/BME/Semester_6/onallo-labor/main.ipynb#W6sZmlsZQ%3D%3D?line=13'>14</a>\u001b[0m x \u001b[39m=\u001b[39m ReductionA(x)\n\u001b[0;32m     <a href='vscode-notebook-cell:/c%3A/BME/Semester_6/onallo-labor/main.ipynb#W6sZmlsZQ%3D%3D?line=15'>16</a>\u001b[0m \u001b[39mfor\u001b[39;00m _ \u001b[39min\u001b[39;00m \u001b[39mrange\u001b[39m(\u001b[39m7\u001b[39m):\n",
      "\u001b[1;32mc:\\BME\\Semester_6\\onallo-labor\\main.ipynb Cell 7\u001b[0m in \u001b[0;36m8\n\u001b[0;32m     <a href='vscode-notebook-cell:/c%3A/BME/Semester_6/onallo-labor/main.ipynb#W6sZmlsZQ%3D%3D?line=76'>77</a>\u001b[0m branch_3 \u001b[39m=\u001b[39m Conv2DBatchNorm(branch_3, \u001b[39m96\u001b[39m, (\u001b[39m3\u001b[39m, \u001b[39m3\u001b[39m))\n\u001b[0;32m     <a href='vscode-notebook-cell:/c%3A/BME/Semester_6/onallo-labor/main.ipynb#W6sZmlsZQ%3D%3D?line=77'>78</a>\u001b[0m branch_3 \u001b[39m=\u001b[39m Conv2DBatchNorm(branch_3, \u001b[39m96\u001b[39m, (\u001b[39m3\u001b[39m, \u001b[39m3\u001b[39m))\n\u001b[1;32m---> <a href='vscode-notebook-cell:/c%3A/BME/Semester_6/onallo-labor/main.ipynb#W6sZmlsZQ%3D%3D?line=79'>80</a>\u001b[0m x \u001b[39m=\u001b[39m Concatenate()([branch_0, branch_1, branch_2, branch_3])\n\u001b[0;32m     <a href='vscode-notebook-cell:/c%3A/BME/Semester_6/onallo-labor/main.ipynb#W6sZmlsZQ%3D%3D?line=81'>82</a>\u001b[0m \u001b[39mreturn\u001b[39;00m x\n",
      "File \u001b[1;32m~\\AppData\\Roaming\\Python\\Python310\\site-packages\\keras\\utils\\traceback_utils.py:70\u001b[0m, in \u001b[0;36mfilter_traceback.<locals>.error_handler\u001b[1;34m(*args, **kwargs)\u001b[0m\n\u001b[0;32m     67\u001b[0m     filtered_tb \u001b[39m=\u001b[39m _process_traceback_frames(e\u001b[39m.\u001b[39m__traceback__)\n\u001b[0;32m     68\u001b[0m     \u001b[39m# To get the full stack trace, call:\u001b[39;00m\n\u001b[0;32m     69\u001b[0m     \u001b[39m# `tf.debugging.disable_traceback_filtering()`\u001b[39;00m\n\u001b[1;32m---> 70\u001b[0m     \u001b[39mraise\u001b[39;00m e\u001b[39m.\u001b[39mwith_traceback(filtered_tb) \u001b[39mfrom\u001b[39;00m \u001b[39mNone\u001b[39m\n\u001b[0;32m     71\u001b[0m \u001b[39mfinally\u001b[39;00m:\n\u001b[0;32m     72\u001b[0m     \u001b[39mdel\u001b[39;00m filtered_tb\n",
      "File \u001b[1;32m~\\AppData\\Roaming\\Python\\Python310\\site-packages\\keras\\layers\\merging\\concatenate.py:131\u001b[0m, in \u001b[0;36mConcatenate.build\u001b[1;34m(self, input_shape)\u001b[0m\n\u001b[0;32m    125\u001b[0m unique_dims \u001b[39m=\u001b[39m \u001b[39mset\u001b[39m(\n\u001b[0;32m    126\u001b[0m     shape[axis]\n\u001b[0;32m    127\u001b[0m     \u001b[39mfor\u001b[39;00m shape \u001b[39min\u001b[39;00m shape_set\n\u001b[0;32m    128\u001b[0m     \u001b[39mif\u001b[39;00m shape[axis] \u001b[39mis\u001b[39;00m \u001b[39mnot\u001b[39;00m \u001b[39mNone\u001b[39;00m\n\u001b[0;32m    129\u001b[0m )\n\u001b[0;32m    130\u001b[0m \u001b[39mif\u001b[39;00m \u001b[39mlen\u001b[39m(unique_dims) \u001b[39m>\u001b[39m \u001b[39m1\u001b[39m:\n\u001b[1;32m--> 131\u001b[0m     \u001b[39mraise\u001b[39;00m \u001b[39mValueError\u001b[39;00m(err_msg)\n",
      "\u001b[1;31mValueError\u001b[0m: A `Concatenate` layer requires inputs with matching shapes except for the concatenation axis. Received: input_shape=[(None, 2, 2, 96), (None, 4, 4, 96), (None, 4, 4, 96), (None, 4, 4, 96)]"
     ]
    }
   ],
   "source": [
    "model = MyInception()\n",
    "\n",
    "model.compile()\n",
    "\n",
    "model.summary()"
   ]
  }
 ],
 "metadata": {
  "kernelspec": {
   "display_name": "Python 3 (ipykernel)",
   "language": "python",
   "name": "python3"
  },
  "language_info": {
   "codemirror_mode": {
    "name": "ipython",
    "version": 3
   },
   "file_extension": ".py",
   "mimetype": "text/x-python",
   "name": "python",
   "nbconvert_exporter": "python",
   "pygments_lexer": "ipython3",
   "version": "3.10.7"
  },
  "orig_nbformat": 4
 },
 "nbformat": 4,
 "nbformat_minor": 2
}
